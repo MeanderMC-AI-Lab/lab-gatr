{
 "cells": [
  {
   "cell_type": "code",
   "execution_count": 63,
   "id": "bfb865f5-6147-4255-afba-94a157875158",
   "metadata": {},
   "outputs": [],
   "source": [
    "import os\n",
    "import open3d as o3d\n",
    "import numpy as np\n",
    "import torch\n",
    "\n",
    "data_dir = \"/data/lab-gatr\"\n",
    "disp_dir = \"/data/lab-gatr/point_displacements\"\n",
    "patient_id = 2"
   ]
  },
  {
   "cell_type": "code",
   "execution_count": 59,
   "id": "0ad020ba-973a-4957-8f31-be4d6971a72f",
   "metadata": {},
   "outputs": [],
   "source": [
    "def print_mesh(mesh):\n",
    "    v = np.asarray(mesh.vertices)\n",
    "    f = np.asarray(mesh.triangles)\n",
    "    n = np.asarray(mesh.vertex_normals)\n",
    "    print(f\"Mesh: {len(v)} vertices, {len(n)} normals, {len(f)} faces\")\n",
    "\n",
    "def print_pointcloud(pcd):\n",
    "    p = np.asarray(pcd.points)\n",
    "    print(f\"Pointcloud: {len(p)} points\")\n",
    "\n",
    "def orient_normals_outward(vertices, normals):\n",
    "    center = vertices.mean(axis=0)\n",
    "    print(f\"Center: {center[0]:.3f}, {center[1]:.3f}, {center[2]:.3f}\")\n",
    "    dirs = vertices - center\n",
    "    dots = np.einsum(\"ij,ij->i\", normals, dirs)\n",
    "    normals[dots < 0] *= -1\n",
    "    return normals\n",
    "\n",
    "def orient_normals_negative_zaxis(normals):\n",
    "    mask = normals[:, 2] > 0\n",
    "    normals[mask] *= -1\n",
    "    return normals"
   ]
  },
  {
   "cell_type": "code",
   "execution_count": 74,
   "id": "4727ff1f-4d24-46e4-a3eb-7bbd202f5550",
   "metadata": {},
   "outputs": [
    {
     "name": "stdout",
     "output_type": "stream",
     "text": [
      "Mesh: 61097 vertices, 61097 normals, 113940 faces\n",
      "Pointcloud: 61097 points\n",
      "Mesh: 67844 vertices, 67844 normals, 128084 faces\n",
      "Pointcloud: 67844 points\n"
     ]
    }
   ],
   "source": [
    "patients = [os.path.join(data_dir, p) for p in os.listdir(data_dir) if p.startswith(\"24_\")]\n",
    "patient = [p for p in patients if os.path.basename(p).startswith(f\"24_{patient_id:02d}\")][0]\n",
    "disps = torch.load(os.path.join(disp_dir, os.path.basename(patient) + \".pt\"))[\"displacements\"]\n",
    "\n",
    "# Read not-insufflated abdominal shape\n",
    "begin_mesh = o3d.io.read_triangle_mesh(os.path.join(patient, \"filtered_begin_mesh.ply\"))\n",
    "begin_pcd = o3d.io.read_point_cloud(os.path.join(patient, \"filtered_begin_pointcloud.ply\"))\n",
    "print_mesh(begin_mesh)\n",
    "print_pointcloud(begin_pcd)\n",
    "\n",
    "# Read insufflated abdominal shape\n",
    "end_mesh = o3d.io.read_triangle_mesh(os.path.join(patient, \"filtered_end_mesh.ply\"))\n",
    "end_pcd = o3d.io.read_point_cloud(os.path.join(patient, \"filtered_end_pointcloud.ply\"))\n",
    "print_mesh(end_mesh)\n",
    "print_pointcloud(end_pcd)"
   ]
  },
  {
   "cell_type": "code",
   "execution_count": 75,
   "id": "8ec49b93-a0d7-489a-9d8d-ff17734c67fb",
   "metadata": {},
   "outputs": [],
   "source": [
    "# new_normals = orient_normals_outward(np.asarray(begin_mesh.vertices), np.asarray(begin_mesh.vertex_normals))\n",
    "new_normals = orient_normals_negative_zaxis(np.asarray(begin_mesh.vertex_normals))\n",
    "begin_mesh.vertex_normals = o3d.utility.Vector3dVector(new_normals)\n",
    "# o3d.io.write_triangle_mesh(os.path.join(patient, \"filtered_begin_mesh_normals2.ply\"), begin_mesh)"
   ]
  },
  {
   "cell_type": "code",
   "execution_count": 82,
   "id": "a34e42fa-7451-4544-a02f-126e16370999",
   "metadata": {},
   "outputs": [
    {
     "data": {
      "text/plain": [
       "tensor(0.0267)"
      ]
     },
     "execution_count": 82,
     "metadata": {},
     "output_type": "execute_result"
    }
   ],
   "source": [
    "torch.mean(torch.norm(disps, dim=1))"
   ]
  },
  {
   "cell_type": "code",
   "execution_count": 30,
   "id": "6f2bed0b-b75d-469e-a181-3b9984759929",
   "metadata": {},
   "outputs": [],
   "source": [
    "pos, orientation = np.asarray(begin_mesh.vertices), np.asarray(begin_mesh.vertex_normals)"
   ]
  }
 ],
 "metadata": {
  "kernelspec": {
   "display_name": "Python 3 (ipykernel)",
   "language": "python",
   "name": "python3"
  },
  "language_info": {
   "codemirror_mode": {
    "name": "ipython",
    "version": 3
   },
   "file_extension": ".py",
   "mimetype": "text/x-python",
   "name": "python",
   "nbconvert_exporter": "python",
   "pygments_lexer": "ipython3",
   "version": "3.10.12"
  }
 },
 "nbformat": 4,
 "nbformat_minor": 5
}
