{
 "cells": [
  {
   "cell_type": "code",
   "execution_count": 16,
   "id": "d9cf90e9-ef05-43a1-9eab-8028f79b1c61",
   "metadata": {},
   "outputs": [
    {
     "name": "stderr",
     "output_type": "stream",
     "text": [
      " 98%|█████████▊| 64/65 [00:08<00:00,  8.11it/s]"
     ]
    },
    {
     "name": "stdout",
     "output_type": "stream",
     "text": [
      "N=100875, len(data['input_points'])=100875, 100875\n",
      "M=107261, len(data['target_points'])=106367\n"
     ]
    },
    {
     "name": "stderr",
     "output_type": "stream",
     "text": [
      "100%|██████████| 65/65 [00:08<00:00,  7.97it/s]\n"
     ]
    }
   ],
   "source": [
    "import os\n",
    "import open3d as o3d\n",
    "import numpy as np\n",
    "import torch\n",
    "from tqdm import tqdm\n",
    "\n",
    "data_dir = \"/data/Predict-Pneumoperitoneum_LaB-GATr/pointclouds_and_meshes\"\n",
    "disp_dir = \"/data/Predict-Pneumoperitoneum_LaB-GATr/dataset/raw\"\n",
    "\n",
    "\n",
    "def orient_normals_negative_zaxis(normals):\n",
    "    normals = np.asarray(normals)\n",
    "    mask = normals[:, 2] > 0\n",
    "    normals[mask] *= -1\n",
    "    normals = o3d.utility.Vector3dVector(normals)\n",
    "    return normals\n",
    "\n",
    "\n",
    "patients = sorted([os.path.join(data_dir, p) for p in os.listdir(data_dir) if p.startswith(\"24_\")])\n",
    "for patient in tqdm(patients):\n",
    "    # Keys: pointcloud_begin (N, 3), input_points (N, 3), displacements (N, 3), target_points (M, 3),\n",
    "    # patient_features (5), annotations_start (13, 3), annotations_end (13, 3)\n",
    "    data = torch.load(os.path.join(disp_dir, os.path.basename(patient) + \".pt\"))\n",
    "    begin_mesh = o3d.io.read_triangle_mesh(os.path.join(patient, \"filtered_begin_mesh.ply\"))\n",
    "    end_mesh = o3d.io.read_triangle_mesh(os.path.join(patient, \"filtered_end_mesh.ply\"))\n",
    "\n",
    "    # Direct all normals such that they face the camera direction (fix inverted normals)\n",
    "    begin_mesh.vertex_normals = orient_normals_negative_zaxis(begin_mesh.vertex_normals)\n",
    "    end_mesh.vertex_normals = orient_normals_negative_zaxis(end_mesh.vertex_normals)\n",
    "\n",
    "    # Check if lengths are correct\n",
    "    N = len(begin_mesh.vertex_normals)\n",
    "    M = len(end_mesh.vertex_normals)\n",
    "    if len(data[\"input_points\"]) != N or len(data[\"displacements\"]) != N or len(data[\"target_points\"]) != M:\n",
    "        print(f\"{N=}, {len(data['input_points'])=}, {len(data['displacements'])}\")\n",
    "        print(f\"{M=}, {len(data['target_points'])=}\")\n",
    "\n",
    "    # Write normals to data files\n",
    "    data[\"input_normals\"] = torch.as_tensor(np.asarray(begin_mesh.vertex_normals))\n",
    "    data[\"target_normals\"] = torch.as_tensor(np.asarray(end_mesh.vertex_normals))\n",
    "    torch.save(data, os.path.join(disp_dir, os.path.basename(patient) + \".pt\"))\n",
    "    o3d.io.write_triangle_mesh(os.path.join(patient, \"filtered_begin_mesh_normals.ply\"), begin_mesh)\n",
    "    o3d.io.write_triangle_mesh(os.path.join(patient, \"filtered_end_mesh_normals.ply\"), end_mesh)"
   ]
  }
 ],
 "metadata": {
  "kernelspec": {
   "display_name": "Python 3 (ipykernel)",
   "language": "python",
   "name": "python3"
  },
  "language_info": {
   "codemirror_mode": {
    "name": "ipython",
    "version": 3
   },
   "file_extension": ".py",
   "mimetype": "text/x-python",
   "name": "python",
   "nbconvert_exporter": "python",
   "pygments_lexer": "ipython3",
   "version": "3.10.12"
  }
 },
 "nbformat": 4,
 "nbformat_minor": 5
}
